{
 "cells": [
  {
   "cell_type": "code",
   "execution_count": 1,
   "id": "ef17a75d",
   "metadata": {},
   "outputs": [],
   "source": [
    "import pandas as pd\n",
    "pd.set_option('display.max_columns', None)\n",
    "import numpy as np"
   ]
  },
  {
   "cell_type": "code",
   "execution_count": 2,
   "id": "f514a337",
   "metadata": {},
   "outputs": [],
   "source": [
    "merged_df = pd.read_csv(\"./Data/merged2.csv\")"
   ]
  },
  {
   "cell_type": "code",
   "execution_count": 3,
   "id": "9fe95e93",
   "metadata": {},
   "outputs": [],
   "source": [
    "#First we need to drop all columns with issue date nan to avoid problems when charts are displayed and then we need\n",
    "# to replace all the nan values with 0"
   ]
  },
  {
   "cell_type": "code",
   "execution_count": 4,
   "id": "c6929fd8",
   "metadata": {},
   "outputs": [],
   "source": [
    "merged_df.dropna(subset=['issue_date'], inplace=True)"
   ]
  },
  {
   "cell_type": "code",
   "execution_count": 5,
   "id": "4a1de23e",
   "metadata": {},
   "outputs": [],
   "source": [
    "#We first need to filter based on the query fields product and dates"
   ]
  },
  {
   "cell_type": "code",
   "execution_count": 6,
   "id": "b7199d17",
   "metadata": {},
   "outputs": [
    {
     "name": "stderr",
     "output_type": "stream",
     "text": [
      "/home/sachin/anaconda3/envs/ML/lib/python3.6/site-packages/ipykernel_launcher.py:6: UserWarning: Boolean Series key will be reindexed to match DataFrame index.\n",
      "  \n",
      "/home/sachin/anaconda3/envs/ML/lib/python3.6/site-packages/ipykernel_launcher.py:7: UserWarning: Boolean Series key will be reindexed to match DataFrame index.\n",
      "  import sys\n"
     ]
    }
   ],
   "source": [
    "query = ['profit', 'TIN001', '2021-04-05T00:00:00.000Z', '2023-08-05T00:00:00.000Z', 'arima']\n",
    "\n",
    "#filtering after startdate\n",
    "filtered_df = merged_df[merged_df[\"issue_date\"]>=query[2]]\n",
    "#filtering before enddate\n",
    "filtered_df = filtered_df[merged_df[\"issue_date\"]<=query[3]]\n",
    "filtered_df = filtered_df[merged_df[\"item_code\"]==query[1]]\n",
    "#get the column "
   ]
  },
  {
   "cell_type": "code",
   "execution_count": 10,
   "id": "432c68d1",
   "metadata": {},
   "outputs": [],
   "source": [
    "result_df = filtered_df[[\"issue_date\", query[0]]].sort_values(by='issue_date', ascending=True)"
   ]
  },
  {
   "cell_type": "code",
   "execution_count": 13,
   "id": "0ff003ea",
   "metadata": {},
   "outputs": [
    {
     "data": {
      "text/plain": [
       "'{\"issue_date\":{\"177\":\"2021-12-12T00:00:00.000Z\",\"124\":\"2021-12-19T00:00:00.000Z\",\"106\":\"2022-02-08T00:00:00.000Z\",\"108\":\"2022-03-08T00:00:00.000Z\",\"119\":\"2022-03-23T00:00:00.000Z\",\"143\":\"2022-05-24T00:00:00.000Z\",\"78\":\"2022-06-14T00:00:00.000Z\",\"102\":\"2022-08-30T00:00:00.000Z\",\"136\":\"2022-08-31T00:00:00.000Z\",\"127\":\"2022-09-15T00:00:00.000Z\",\"84\":\"2022-09-15T00:00:00.000Z\",\"178\":\"2022-09-15T00:00:00.000Z\",\"137\":\"2022-09-15T00:00:00.000Z\",\"128\":\"2022-09-25T00:00:00.000Z\",\"139\":\"2022-10-26T00:00:00.000Z\",\"179\":\"2023-04-11T00:00:00.000Z\",\"183\":\"2023-04-11T00:00:00.000Z\",\"181\":\"2023-04-11T00:00:00.000Z\",\"93\":\"2023-05-04T00:00:00.000Z\",\"26\":\"2023-05-15T00:00:00.000Z\",\"25\":\"2023-05-15T00:00:00.000Z\"},\"profit\":{\"177\":154000.0,\"124\":11000.0,\"106\":22000.0,\"108\":11000.0,\"119\":110.0,\"143\":16500.0,\"78\":55000.0,\"102\":11000.0,\"136\":3300.0,\"127\":27500.0,\"84\":10890.0,\"178\":33000.0,\"137\":6050.0,\"128\":3300.0,\"139\":1100.0,\"179\":110.0,\"183\":110.0,\"181\":110.0,\"93\":5500.0,\"26\":1100.0,\"25\":1100.0}}'"
      ]
     },
     "execution_count": 13,
     "metadata": {},
     "output_type": "execute_result"
    }
   ],
   "source": [
    "result_df.to_json()"
   ]
  }
 ],
 "metadata": {
  "kernelspec": {
   "display_name": "Python 3",
   "language": "python",
   "name": "python3"
  },
  "language_info": {
   "codemirror_mode": {
    "name": "ipython",
    "version": 3
   },
   "file_extension": ".py",
   "mimetype": "text/x-python",
   "name": "python",
   "nbconvert_exporter": "python",
   "pygments_lexer": "ipython3",
   "version": "3.6.13"
  }
 },
 "nbformat": 4,
 "nbformat_minor": 5
}
